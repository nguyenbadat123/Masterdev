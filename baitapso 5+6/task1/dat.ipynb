{
 "cells": [
  {
   "cell_type": "code",
   "execution_count": 1,
   "metadata": {},
   "outputs": [],
   "source": [
    "HO = [\"Nguyễn\",\"Trần\", \"Lê\", \"Phạm\", \"Phan\", \"Tô\", \"Phùng\", \"Đỗ\", \"Lã\", \"Võ\", \"Bùi\", \"Đặng\", \"Dương\", \"Lý\", \"Hoàng\", \"Vũ\", \"Hồ\", \"Ngô\", \"Đinh\",\"lã\"]"
   ]
  },
  {
   "cell_type": "code",
   "execution_count": 2,
   "metadata": {},
   "outputs": [],
   "source": [
    "with open(\"/girl.txt\", \"r\") as f:\n",
    "    lines = f.readlines()\n",
    "name_girl = [i.split(\"\\n\")[0] for i in lines]"
   ]
  },
  {
   "cell_type": "code",
   "execution_count": 3,
   "metadata": {},
   "outputs": [],
   "source": [
    "with open(\"/boy.txt\", \"r\") as f:\n",
    "    lines = f.readlines()\n",
    "name_boy = [i.split(\"\\n\")[0] for i in lines]"
   ]
  },
  {
   "cell_type": "markdown",
   "metadata": {},
   "source": [
    "1.Gen Student"
   ]
  },
  {
   "cell_type": "code",
   "execution_count": 16,
   "metadata": {},
   "outputs": [],
   "source": [
    "import random\n",
    "import csv \n",
    "\n",
    "header = [ 'name', 'gender', 'email', ]\n",
    "\n",
    "with open(\"/Student.csv\", \"w\") as csvf:\n",
    "    csv_writer = csv.writer(csvf)\n",
    "    csv_writer.writerow(header)\n",
    "    i = 0\n",
    "    while (i < 150000):\n",
    "        i += 1\n",
    "        id = i\n",
    "        if (random.random() < 0.5):\n",
    "                gender = 1\n",
    "                name = random.choice(name_girl) + \" \" + random.choice(name_girl)\n",
    "                email =  \"Student\"+str(id)+ \"@gmail.com\"\n",
    "        else:\n",
    "                gender = 0\n",
    "                name = random.choice(name_girl) + \" \" + random.choice(name_boy)\n",
    "                email = \"Student\"+str(id) + \"@gmail.com\"\n",
    "        record = [name, gender, email]\n",
    "        csv_writer.writerow(record)"
   ]
  },
  {
   "cell_type": "markdown",
   "metadata": {},
   "source": [
    "2.Gen Teacher"
   ]
  },
  {
   "cell_type": "code",
   "execution_count": 5,
   "metadata": {},
   "outputs": [],
   "source": [
    "import random\n",
    "import csv \n",
    "\n",
    "header = [ 'name', 'gender', 'email']\n",
    "\n",
    "with open(\"/Teacher.csv\", \"w\") as csvf:\n",
    "    csv_writer = csv.writer(csvf)\n",
    "    csv_writer.writerow(header)\n",
    "    i = 0\n",
    "    while (i < 1000):\n",
    "        i += 1\n",
    "        id = i\n",
    "        if (random.random() < 0.5):\n",
    "                gender = 1\n",
    "                name = random.choice(name_girl) + \" \" + random.choice(name_girl)\n",
    "                email =  \"Teacher\"+str(id)+ \"@gmail.com\"\n",
    "        else:\n",
    "                gender = 0\n",
    "                name = random.choice(name_girl) + \" \" + random.choice(name_boy)\n",
    "                email = \"Teacher\"+str(id) + \"@gmail.com\"\n",
    "        record = [name, gender, email]\n",
    "        csv_writer.writerow(record)"
   ]
  },
  {
   "cell_type": "markdown",
   "metadata": {},
   "source": [
    "3.Gen Subject"
   ]
  },
  {
   "cell_type": "code",
   "execution_count": 13,
   "metadata": {},
   "outputs": [],
   "source": [
    "with open(\"/course.txt\", \"r\") as f:\n",
    "    lines = f.readlines()\n",
    "Subject = [i.split(\"\\n\")[0] for i in lines]"
   ]
  },
  {
   "cell_type": "code",
   "execution_count": 14,
   "metadata": {},
   "outputs": [],
   "source": [
    "import random\n",
    "import csv \n",
    "\n",
    "header = [ 'name' ]\n",
    "\n",
    "with open(\"/Subject.csv\", \"w\") as csvf:\n",
    "    csv_writer = csv.writer(csvf)\n",
    "    csv_writer.writerow(header)\n",
    "    i = 0\n",
    "    while (i < len(Subject)):\n",
    "        name = Subject[i]\n",
    "        record = [name]\n",
    "        i += 1\n",
    "        csv_writer.writerow(record)"
   ]
  },
  {
   "cell_type": "markdown",
   "metadata": {},
   "source": [
    "4.Gen Class"
   ]
  },
  {
   "cell_type": "code",
   "execution_count": 21,
   "metadata": {},
   "outputs": [],
   "source": [
    "import random\n",
    "header = ['id', 'id_teacher', 'id_Subject', 'group', 'count']\n",
    "with open(\"/Class.csv\", \"w\") as csvf:\n",
    "    csv_writer = csv.writer(csvf)\n",
    "    csv_writer.writerow(header)\n",
    "    s = 1\n",
    "    for i in range(1,1001):\n",
    "        id_teacher  = i\n",
    "        Sl_group = 5\n",
    "        Sl_Student = random.randint(60,100)\n",
    "        id_Subject1 = random.randint(1,200)\n",
    "        idSubjects = [id_Subject1, id_Subject1 + 1]\n",
    "        for j in range(2):\n",
    "            for k in range(1,Sl_group+1):\n",
    "                record = [s,id_teacher, idSubjects[j], k, 30]\n",
    "                s+=1\n",
    "                csv_writer.writerow(record)\n",
    "                \n",
    "\n",
    "        \n",
    "\n"
   ]
  },
  {
   "cell_type": "markdown",
   "metadata": {},
   "source": [
    "5.Gen ClassDetail"
   ]
  },
  {
   "cell_type": "code",
   "execution_count": null,
   "metadata": {},
   "outputs": [],
   "source": [
    "import random\n",
    "import pandas as pd\n",
    "import csv\n",
    "\n",
    "list_class =  pd.read_csv(\"/Class.csv\", index_col = [0])\n",
    "# print(list_class)\n",
    "header = ['idStudent', 'idClass', 'score']\n",
    "# for row in list_class.iterrows():\n",
    "#     print(row)\n",
    "records = []\n",
    "\n",
    "with open(\"/ClassDetail.csv\", \"w\") as csvf:\n",
    "    csv_writer = csv.writer(csvf)\n",
    "    csv_writer.writerow(header)\n",
    "    for i in range(1, 43000):\n",
    "        list_sub = []\n",
    "        num_Class = 5\n",
    "        while num_Class > 0:\n",
    "            for row in list_class.iterrows():\n",
    "                if row[1][1] not in list_sub and row[1][3] != 0 :\n",
    "                    list_sub.append(row[1][1])\n",
    "                    row[1][3] -= 1\n",
    "                    records = [i, row[0],  round(random.uniform(0, 10), 2)]\n",
    "                    csv_writer.writerow(records)\n",
    "                    print(records)\n",
    "                    num_Class -=1\n",
    "                    break\n",
    "\n"
   ]
  },
  {
   "cell_type": "markdown",
   "metadata": {},
   "source": []
  }
 ],
 "metadata": {
  "kernelspec": {
   "display_name": "Python 3.9.13 64-bit",
   "language": "python",
   "name": "python3"
  },
  "language_info": {
   "codemirror_mode": {
    "name": "ipython",
    "version": 3
   },
   "file_extension": ".py",
   "mimetype": "text/x-python",
   "name": "python",
   "nbconvert_exporter": "python",
   "pygments_lexer": "ipython3",
   "version": "3.9.13"
  },
  "orig_nbformat": 4,
  "vscode": {
   "interpreter": {
    "hash": "aee8b7b246df8f9039afb4144a1f6fd8d2ca17a180786b69acc140d282b71a49"
   }
  }
 },
 "nbformat": 4,
 "nbformat_minor": 2
}
