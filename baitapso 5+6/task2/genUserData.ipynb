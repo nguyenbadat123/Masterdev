{
 "cells": [
  {
   "cell_type": "markdown",
   "metadata": {},
   "source": [
    "- dữ liệu danh sách họ được lấy từ : https://vi.wikipedia.org/wiki/H%E1%BB%8D_ng%C6%B0%E1%BB%9Di_Vi%E1%BB%87t_Nam\n",
    "- dữ liệu tên được lấy từ : https://github.com/duyet/vietnamese-namedb"
   ]
  },
  {
   "cell_type": "code",
   "execution_count": null,
   "metadata": {},
   "outputs": [],
   "source": [
    "Ho_list = [\"Nguyễn\",\"Trần\", \"Lê\", \"Phạm\", \"Phan\", \"Tô\", \"Phùng\", \"Đỗ\", \"Lã\", \"Võ\", \"Bùi\", \"Đặng\", \"Dương\", \"Lý\", \"Hoàng\", \"Vũ\", \"Hồ\", \"Ngô\", \"Đinh\",\"Lã\"]"
   ]
  },
  {
   "cell_type": "markdown",
   "metadata": {},
   "source": [
    "- lấy danh sách tên là nữ"
   ]
  },
  {
   "cell_type": "code",
   "execution_count": null,
   "metadata": {},
   "outputs": [],
   "source": [
    "with open(\"/girl.txt\", \"r\") as f:\n",
    "    lines = f.readlines()\n",
    "first_name_girl = [i.split(\"\\n\")[0].strip() for i in lines]"
   ]
  },
  {
   "cell_type": "markdown",
   "metadata": {},
   "source": [
    "- lấy danh sách tên là nam"
   ]
  },
  {
   "cell_type": "code",
   "execution_count": null,
   "metadata": {},
   "outputs": [],
   "source": [
    "with open(\"/boy.txt\", \"r\") as f:\n",
    "    lines = f.readlines()\n",
    "first_name_boy = [i.split(\"\\n\")[0] for i in lines]\n",
    "B = len(first_name_boy) * 20"
   ]
  },
  {
   "cell_type": "markdown",
   "metadata": {},
   "source": [
    "- lấy danh sách tên thành phố viết tắt"
   ]
  },
  {
   "cell_type": "code",
   "execution_count": null,
   "metadata": {},
   "outputs": [],
   "source": [
    "with open(\"/TP.txt\", \"r\") as f:\n",
    "    lines = f.readlines()\n",
    "TPS = [i.split(\"\\n\")[0] for i in lines]"
   ]
  },
  {
   "cell_type": "markdown",
   "metadata": {},
   "source": [
    "- tạo 1 dict {key - value}\n",
    "    - key : tên của người dùng được viết tắt : tên viết thường không dấu + chữ cái đầu viết thường của họ và tên đệm.\n",
    "    - value : chứa số lượng key hiện có.\n",
    "    \n",
    "    vd : chí bùi minh - > <chibm - 1>"
   ]
  },
  {
   "cell_type": "code",
   "execution_count": null,
   "metadata": {},
   "outputs": [],
   "source": [
    "Acc = {}"
   ]
  },
  {
   "cell_type": "markdown",
   "metadata": {},
   "source": [
    "- ghi những username , fullname , province, age , giới tính nữ"
   ]
  },
  {
   "cell_type": "code",
   "execution_count": null,
   "metadata": {},
   "outputs": [],
   "source": [
    "import random\n",
    "import csv \n",
    "import unidecode\n",
    "# new OutputStreamWriter(new FileOutputStream(csvf), \"UTF-8\")\n",
    "header = ['id','Username','Fullname', 'Province', 'Age']\n",
    "with open(\"/data/users.csv\", \"w\") as csvf:\n",
    "    id = 1 \n",
    "    csv_writer = csv.writer(csvf)\n",
    "\n",
    "    for ho in Ho_list:\n",
    "        for name in first_name_:\n",
    "            # convert full name -> tên viết tắt.\n",
    "            FullName = ho + \" \" + name \n",
    "            dem_ten = [str(x) for x in name.split()]\n",
    "            Username = unidecode.unidecode(dem_ten[-1].lower())+ unidecode.unidecode(ho[0].lower())\n",
    "            for i in range(len(dem_ten)-1):\n",
    "                Username += unidecode.unidecode( dem_ten[i][0].lower())\n",
    "            #  với mỗi tên t sẽ x20 lần.\n",
    "            for i in range(1,21):\n",
    "                SoLuong = 0\n",
    "                # lấy số lượng tên viết tắt hiện cò,\n",
    "                # nếu có thì gán SoLuong = Value\n",
    "                # nếu không có thì add tên viết tắt vào dict vào tạo value = 1\n",
    "                try :\n",
    "                    SoLuong = Acc[Username] + 1\n",
    "                    Acc[Username] = SoLuong \n",
    "                except:\n",
    "                    Acc[Username] = 1\n",
    "                    SoLuong = 1\n",
    "\n",
    "                Province = TPS[random.randint(0,64)]\n",
    "                Age = random.randint(18,40)\n",
    "                record = [id,Username+unidecode.unidecode(str(SoLuong)), FullName, Province, Age]\n",
    "                csv_writer.writerow(record)\n",
    "                id+=1\n",
    "    "
   ]
  },
  {
   "cell_type": "markdown",
   "metadata": {},
   "source": [
    "- với boy làm tương tự như girl"
   ]
  },
  {
   "cell_type": "code",
   "execution_count": null,
   "metadata": {},
   "outputs": [],
   "source": [
    "import random\n",
    "import csv \n",
    "import unidecode\n",
    "header = ['id','Username','Fullname', 'Province', 'Age']\n",
    "with open(\"Fullname.csv\", \"a+\") as csvf:\n",
    "    id = 1 + 490000\n",
    "    csv_writer = csv.writer(csvf)\n",
    "    for ho in Ho_list:\n",
    "        for name in first_name_:\n",
    "            FullName = ho + \" \" + name \n",
    "            dem_ten = [str(x) for x in name.split()]\n",
    "            Username = unidecode.unidecode(dem_ten[-1].lower())+ unidecode.unidecode(ho[0].lower())\n",
    "            for i in range(len(dem_ten)-1):\n",
    "                Username += unidecode.unidecode( dem_ten[i][0].lower())\n",
    "            for i in range(1,21):\n",
    "                SoLuong = 0\n",
    "                try :\n",
    "                    SoLuong = Acc[Username] + 1\n",
    "                    Acc[Username] = SoLuong \n",
    "                except:\n",
    "                    Acc[Username] = 1\n",
    "                    SoLuong = 1\n",
    "\n",
    "                Province = TPS[random.randint(0,64)]\n",
    "                Age = random.randint(18,40)\n",
    "                record = [id,Username+unidecode.unidecode(str(SoLuong)), FullName, Province, Age]\n",
    "                csv_writer.writerow(record)\n",
    "                id+=1\n",
    "    "
   ]
  }
 ],
 "metadata": {
  "language_info": {
   "name": "python"
  },
  "orig_nbformat": 4
 },
 "nbformat": 4,
 "nbformat_minor": 2
}
